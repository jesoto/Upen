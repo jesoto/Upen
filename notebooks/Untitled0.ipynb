{
  "cells": [
    {
      "cell_type": "code",
      "execution_count": 90,
      "metadata": {
        "id": "qE4GqDX3e9KW"
      },
      "outputs": [],
      "source": [
        "import pandas as pd\n",
        "import numpy as np\n",
        "import matplotlib.pyplot as plt\n",
        "import seaborn as sns\n",
        "import math\n",
        "import warnings\n",
        "import scipy.stats as stats\n",
        "\n",
        "import dataframe_image as dfi\n",
        "\n",
        "warnings.filterwarnings('ignore')"
      ]
    },
    {
      "attachments": {},
      "cell_type": "markdown",
      "metadata": {},
      "source": [
        "- In order to replicate this assignment, I create a github repo."
      ]
    },
    {
      "attachments": {},
      "cell_type": "markdown",
      "metadata": {
        "id": "4ahABuugfjRg"
      },
      "source": [
        "There are four datasets: case.csv, demo.csv, prior_arrests.csv, and grades.csv. case.csv is the main\n",
        "dataset and reflects dates of arrest and disposition (trial or court appearance) during the period in\n",
        "which the program operated. The file also contains an indicator of whether the arrestee was referred\n",
        "to the intervention program for that arrest (i.e. whether they were treated), whether the person was re\u0002arrested while awaiting trial, the number of prior arrests at the time of program entry, and the arrest\n",
        "location. demo.csv contains demographic information about arrestees, including some who were not\n",
        "included in the program evaluation. prior_arrests.csv reflects pre-period arrests among individuals in\n",
        "case.csv; the pre-period ran from 2008-2011. Finally, grades.csv includes 9th and 10th grade course\n",
        "grades for a subset of individuals in case.csv. Further description of the datasets is included at the end\n",
        "of this document."
      ]
    },
    {
      "attachments": {},
      "cell_type": "markdown",
      "metadata": {
        "id": "0Xc2nc-hgQLE"
      },
      "source": [
        "| Tables   |      Are      |  Cool |\n",
        "|----------|:-------------:|------:|\n",
        "| case|  main dataset | dates of arrest, diposition and referred indicator treatment |\n",
        "| demo |    demographic info   |   arrestees info |\n",
        "| prior arrests | pre period arrest |    from 2008 - 2011 |\n",
        "|grades|9th to 10th grades|"
      ]
    },
    {
      "attachments": {},
      "cell_type": "markdown",
      "metadata": {
        "id": "7Rlz51M5jwWN"
      },
      "source": [
        "## 1. Data Management\n"
      ]
    },
    {
      "attachments": {},
      "cell_type": "markdown",
      "metadata": {
        "id": "AXH_RjaZj3k2"
      },
      "source": [
        "1. The demographic data were extracted from a system that inconsistently coded gender.\n",
        "Recode it so that males are consistently coded as “M” and females are consistently coded as\n",
        "“F”\n"
      ]
    },
    {
      "cell_type": "code",
      "execution_count": 43,
      "metadata": {
        "colab": {
          "base_uri": "https://localhost:8080/",
          "height": 206
        },
        "id": "BVkzEJwcfSZ1",
        "outputId": "d715a5d4-04f0-479d-eeab-39598e069f81"
      },
      "outputs": [
        {
          "data": {
            "text/html": [
              "<div>\n",
              "<style scoped>\n",
              "    .dataframe tbody tr th:only-of-type {\n",
              "        vertical-align: middle;\n",
              "    }\n",
              "\n",
              "    .dataframe tbody tr th {\n",
              "        vertical-align: top;\n",
              "    }\n",
              "\n",
              "    .dataframe thead th {\n",
              "        text-align: right;\n",
              "    }\n",
              "</style>\n",
              "<table border=\"1\" class=\"dataframe\">\n",
              "  <thead>\n",
              "    <tr style=\"text-align: right;\">\n",
              "      <th></th>\n",
              "      <th>person_id</th>\n",
              "      <th>race</th>\n",
              "      <th>gender</th>\n",
              "      <th>bdate</th>\n",
              "    </tr>\n",
              "  </thead>\n",
              "  <tbody>\n",
              "    <tr>\n",
              "      <th>0</th>\n",
              "      <td>1</td>\n",
              "      <td>WHITE</td>\n",
              "      <td>F</td>\n",
              "      <td>1985-07-03</td>\n",
              "    </tr>\n",
              "    <tr>\n",
              "      <th>1</th>\n",
              "      <td>5</td>\n",
              "      <td>BLACK</td>\n",
              "      <td>M</td>\n",
              "      <td>1986-09-27</td>\n",
              "    </tr>\n",
              "    <tr>\n",
              "      <th>2</th>\n",
              "      <td>6</td>\n",
              "      <td>BLACK</td>\n",
              "      <td>M</td>\n",
              "      <td>1991-06-07</td>\n",
              "    </tr>\n",
              "    <tr>\n",
              "      <th>3</th>\n",
              "      <td>7</td>\n",
              "      <td>BLACK</td>\n",
              "      <td>F</td>\n",
              "      <td>1994-08-24</td>\n",
              "    </tr>\n",
              "    <tr>\n",
              "      <th>4</th>\n",
              "      <td>8</td>\n",
              "      <td>BLACK</td>\n",
              "      <td>M</td>\n",
              "      <td>1978-04-04</td>\n",
              "    </tr>\n",
              "  </tbody>\n",
              "</table>\n",
              "</div>"
            ],
            "text/plain": [
              "   person_id   race gender       bdate\n",
              "0          1  WHITE      F  1985-07-03\n",
              "1          5  BLACK      M  1986-09-27\n",
              "2          6  BLACK      M  1991-06-07\n",
              "3          7  BLACK      F  1994-08-24\n",
              "4          8  BLACK      M  1978-04-04"
            ]
          },
          "execution_count": 43,
          "metadata": {},
          "output_type": "execute_result"
        }
      ],
      "source": [
        "demo = pd.read_csv('../raw_data/demo.csv')\n",
        "demo.head()"
      ]
    },
    {
      "cell_type": "code",
      "execution_count": 44,
      "metadata": {
        "colab": {
          "base_uri": "https://localhost:8080/"
        },
        "id": "mxyqpvgJfSWe",
        "outputId": "074638b5-ce9a-40b0-9322-20cca7f8e2b2"
      },
      "outputs": [
        {
          "data": {
            "text/html": [
              "<div>\n",
              "<style scoped>\n",
              "    .dataframe tbody tr th:only-of-type {\n",
              "        vertical-align: middle;\n",
              "    }\n",
              "\n",
              "    .dataframe tbody tr th {\n",
              "        vertical-align: top;\n",
              "    }\n",
              "\n",
              "    .dataframe thead th {\n",
              "        text-align: right;\n",
              "    }\n",
              "</style>\n",
              "<table border=\"1\" class=\"dataframe\">\n",
              "  <thead>\n",
              "    <tr style=\"text-align: right;\">\n",
              "      <th></th>\n",
              "      <th>gender</th>\n",
              "    </tr>\n",
              "  </thead>\n",
              "  <tbody>\n",
              "    <tr>\n",
              "      <th>M</th>\n",
              "      <td>15241</td>\n",
              "    </tr>\n",
              "    <tr>\n",
              "      <th>F</th>\n",
              "      <td>3804</td>\n",
              "    </tr>\n",
              "    <tr>\n",
              "      <th>male</th>\n",
              "      <td>1164</td>\n",
              "    </tr>\n",
              "    <tr>\n",
              "      <th>female</th>\n",
              "      <td>227</td>\n",
              "    </tr>\n",
              "  </tbody>\n",
              "</table>\n",
              "</div>"
            ],
            "text/plain": [
              "        gender\n",
              "M        15241\n",
              "F         3804\n",
              "male      1164\n",
              "female     227"
            ]
          },
          "execution_count": 44,
          "metadata": {},
          "output_type": "execute_result"
        }
      ],
      "source": [
        "#we can see that there more than 2 values for the gender, that must change\n",
        "demo.gender.value_counts().to_frame()\n"
      ]
    },
    {
      "cell_type": "code",
      "execution_count": 45,
      "metadata": {
        "id": "qm1kOFyqfSUd"
      },
      "outputs": [],
      "source": [
        "demo['gender'] = demo.gender.replace({'male':'M','female':'F'})"
      ]
    },
    {
      "cell_type": "code",
      "execution_count": 46,
      "metadata": {
        "colab": {
          "base_uri": "https://localhost:8080/"
        },
        "id": "y6Ebwt8VfSSK",
        "outputId": "8189427b-c494-46b9-a79b-324ca36973c9"
      },
      "outputs": [
        {
          "data": {
            "text/html": [
              "<div>\n",
              "<style scoped>\n",
              "    .dataframe tbody tr th:only-of-type {\n",
              "        vertical-align: middle;\n",
              "    }\n",
              "\n",
              "    .dataframe tbody tr th {\n",
              "        vertical-align: top;\n",
              "    }\n",
              "\n",
              "    .dataframe thead th {\n",
              "        text-align: right;\n",
              "    }\n",
              "</style>\n",
              "<table border=\"1\" class=\"dataframe\">\n",
              "  <thead>\n",
              "    <tr style=\"text-align: right;\">\n",
              "      <th></th>\n",
              "      <th>gender</th>\n",
              "    </tr>\n",
              "  </thead>\n",
              "  <tbody>\n",
              "    <tr>\n",
              "      <th>M</th>\n",
              "      <td>16405</td>\n",
              "    </tr>\n",
              "    <tr>\n",
              "      <th>F</th>\n",
              "      <td>4031</td>\n",
              "    </tr>\n",
              "  </tbody>\n",
              "</table>\n",
              "</div>"
            ],
            "text/plain": [
              "   gender\n",
              "M   16405\n",
              "F    4031"
            ]
          },
          "execution_count": 46,
          "metadata": {},
          "output_type": "execute_result"
        }
      ],
      "source": [
        "demo.gender.value_counts().to_frame()\n",
        "#now we only got the desired values"
      ]
    },
    {
      "attachments": {},
      "cell_type": "markdown",
      "metadata": {
        "id": "DKAtGOwOtDcn"
      },
      "source": [
        "2. Merge the case and demo datasets together so that each row in the case dataset also contains\n",
        "the demographics of the defendant. Keep in mind that the populations in the case and demo\n",
        "data may not be 100% aligned."
      ]
    },
    {
      "cell_type": "code",
      "execution_count": 47,
      "metadata": {
        "id": "D_MN28zrtExr"
      },
      "outputs": [],
      "source": [
        "#reading the data\n",
        "cases = pd.read_csv('../raw_data/case.csv')"
      ]
    },
    {
      "cell_type": "code",
      "execution_count": 48,
      "metadata": {
        "colab": {
          "base_uri": "https://localhost:8080/",
          "height": 241
        },
        "id": "cvzpkiADtUhm",
        "outputId": "07757118-9247-484f-cc4a-f7d9c30dbf3f"
      },
      "outputs": [
        {
          "name": "stdout",
          "output_type": "stream",
          "text": [
            "Rows:20436\n",
            "Columns: 4\n"
          ]
        },
        {
          "data": {
            "text/html": [
              "<div>\n",
              "<style scoped>\n",
              "    .dataframe tbody tr th:only-of-type {\n",
              "        vertical-align: middle;\n",
              "    }\n",
              "\n",
              "    .dataframe tbody tr th {\n",
              "        vertical-align: top;\n",
              "    }\n",
              "\n",
              "    .dataframe thead th {\n",
              "        text-align: right;\n",
              "    }\n",
              "</style>\n",
              "<table border=\"1\" class=\"dataframe\">\n",
              "  <thead>\n",
              "    <tr style=\"text-align: right;\">\n",
              "      <th></th>\n",
              "      <th>person_id</th>\n",
              "      <th>race</th>\n",
              "      <th>gender</th>\n",
              "      <th>bdate</th>\n",
              "    </tr>\n",
              "  </thead>\n",
              "  <tbody>\n",
              "    <tr>\n",
              "      <th>0</th>\n",
              "      <td>1</td>\n",
              "      <td>WHITE</td>\n",
              "      <td>F</td>\n",
              "      <td>1985-07-03</td>\n",
              "    </tr>\n",
              "    <tr>\n",
              "      <th>1</th>\n",
              "      <td>5</td>\n",
              "      <td>BLACK</td>\n",
              "      <td>M</td>\n",
              "      <td>1986-09-27</td>\n",
              "    </tr>\n",
              "    <tr>\n",
              "      <th>2</th>\n",
              "      <td>6</td>\n",
              "      <td>BLACK</td>\n",
              "      <td>M</td>\n",
              "      <td>1991-06-07</td>\n",
              "    </tr>\n",
              "    <tr>\n",
              "      <th>3</th>\n",
              "      <td>7</td>\n",
              "      <td>BLACK</td>\n",
              "      <td>F</td>\n",
              "      <td>1994-08-24</td>\n",
              "    </tr>\n",
              "    <tr>\n",
              "      <th>4</th>\n",
              "      <td>8</td>\n",
              "      <td>BLACK</td>\n",
              "      <td>M</td>\n",
              "      <td>1978-04-04</td>\n",
              "    </tr>\n",
              "  </tbody>\n",
              "</table>\n",
              "</div>"
            ],
            "text/plain": [
              "   person_id   race gender       bdate\n",
              "0          1  WHITE      F  1985-07-03\n",
              "1          5  BLACK      M  1986-09-27\n",
              "2          6  BLACK      M  1991-06-07\n",
              "3          7  BLACK      F  1994-08-24\n",
              "4          8  BLACK      M  1978-04-04"
            ]
          },
          "execution_count": 48,
          "metadata": {},
          "output_type": "execute_result"
        }
      ],
      "source": [
        "#lets see how many rows and columns are \n",
        "print(f'Rows:{demo.shape[0]}\\nColumns: {demo.shape[1]}')\n",
        "demo.head(5)\n"
      ]
    },
    {
      "cell_type": "code",
      "execution_count": 49,
      "metadata": {
        "colab": {
          "base_uri": "https://localhost:8080/"
        },
        "id": "ZfESDgT3vg1t",
        "outputId": "fcf74c54-64da-40f8-f3d8-7ca7c672b1a2"
      },
      "outputs": [
        {
          "name": "stdout",
          "output_type": "stream",
          "text": [
            "There are 4721 replicated rows on the demo dataset\n"
          ]
        }
      ],
      "source": [
        "#we have to verify if the demo dataset have any duplicated row\n",
        "print( f'There are {demo.duplicated().sum()} replicated rows on the demo dataset')\n",
        "#there are 4721 duplicated rows so we have to drop this rows in orde to erge our dataset"
      ]
    },
    {
      "cell_type": "code",
      "execution_count": 50,
      "metadata": {
        "colab": {
          "base_uri": "https://localhost:8080/"
        },
        "id": "I5kS8FDI06Ij",
        "outputId": "1a5bce25-66ad-400c-a60b-1cf62fbeedbc"
      },
      "outputs": [
        {
          "data": {
            "text/plain": [
              "(15715, 4)"
            ]
          },
          "execution_count": 50,
          "metadata": {},
          "output_type": "execute_result"
        }
      ],
      "source": [
        "#dropping the replicated rows\n",
        "demo.drop_duplicates(inplace=True)\n",
        "demo.shape\n",
        "#now we got unique rows"
      ]
    },
    {
      "cell_type": "code",
      "execution_count": 51,
      "metadata": {
        "colab": {
          "base_uri": "https://localhost:8080/",
          "height": 241
        },
        "id": "UaWeyOTUtEud",
        "outputId": "119c4f0e-cd8b-43b1-c8dc-3c8e5b3f1592"
      },
      "outputs": [
        {
          "name": "stdout",
          "output_type": "stream",
          "text": [
            "Rows:26000\n",
            "Columns: 8\n"
          ]
        },
        {
          "data": {
            "text/html": [
              "<div>\n",
              "<style scoped>\n",
              "    .dataframe tbody tr th:only-of-type {\n",
              "        vertical-align: middle;\n",
              "    }\n",
              "\n",
              "    .dataframe tbody tr th {\n",
              "        vertical-align: top;\n",
              "    }\n",
              "\n",
              "    .dataframe thead th {\n",
              "        text-align: right;\n",
              "    }\n",
              "</style>\n",
              "<table border=\"1\" class=\"dataframe\">\n",
              "  <thead>\n",
              "    <tr style=\"text-align: right;\">\n",
              "      <th></th>\n",
              "      <th>caseid</th>\n",
              "      <th>person_id</th>\n",
              "      <th>arrest_date</th>\n",
              "      <th>dispos_date</th>\n",
              "      <th>treat</th>\n",
              "      <th>re_arrest</th>\n",
              "      <th>prior_arrests</th>\n",
              "      <th>address</th>\n",
              "    </tr>\n",
              "  </thead>\n",
              "  <tbody>\n",
              "    <tr>\n",
              "      <th>0</th>\n",
              "      <td>57514</td>\n",
              "      <td>1</td>\n",
              "      <td>2012-01-04</td>\n",
              "      <td>2012-03-27</td>\n",
              "      <td>0</td>\n",
              "      <td>0</td>\n",
              "      <td>2</td>\n",
              "      <td>1698 W 25TH PL, CHICAGO</td>\n",
              "    </tr>\n",
              "    <tr>\n",
              "      <th>1</th>\n",
              "      <td>39970</td>\n",
              "      <td>1</td>\n",
              "      <td>2012-07-11</td>\n",
              "      <td>2012-10-20</td>\n",
              "      <td>1</td>\n",
              "      <td>0</td>\n",
              "      <td>3</td>\n",
              "      <td>4866 S CORNELL AVE, CHICAGO</td>\n",
              "    </tr>\n",
              "    <tr>\n",
              "      <th>2</th>\n",
              "      <td>88413</td>\n",
              "      <td>1</td>\n",
              "      <td>2013-04-04</td>\n",
              "      <td>2013-06-22</td>\n",
              "      <td>0</td>\n",
              "      <td>0</td>\n",
              "      <td>4</td>\n",
              "      <td>2543 N WILLETTS CT, CHICAGO</td>\n",
              "    </tr>\n",
              "    <tr>\n",
              "      <th>3</th>\n",
              "      <td>40216</td>\n",
              "      <td>5</td>\n",
              "      <td>2012-03-31</td>\n",
              "      <td>2013-03-25</td>\n",
              "      <td>0</td>\n",
              "      <td>0</td>\n",
              "      <td>2</td>\n",
              "      <td>4578 W MORSE AVE, CHICAGO</td>\n",
              "    </tr>\n",
              "    <tr>\n",
              "      <th>4</th>\n",
              "      <td>92255</td>\n",
              "      <td>6</td>\n",
              "      <td>2012-12-09</td>\n",
              "      <td>2013-11-09</td>\n",
              "      <td>0</td>\n",
              "      <td>0</td>\n",
              "      <td>3</td>\n",
              "      <td>5111 S SANGAMON ST, CHICAGO</td>\n",
              "    </tr>\n",
              "  </tbody>\n",
              "</table>\n",
              "</div>"
            ],
            "text/plain": [
              "   caseid  person_id arrest_date dispos_date  treat  re_arrest  prior_arrests  \\\n",
              "0   57514          1  2012-01-04  2012-03-27      0          0              2   \n",
              "1   39970          1  2012-07-11  2012-10-20      1          0              3   \n",
              "2   88413          1  2013-04-04  2013-06-22      0          0              4   \n",
              "3   40216          5  2012-03-31  2013-03-25      0          0              2   \n",
              "4   92255          6  2012-12-09  2013-11-09      0          0              3   \n",
              "\n",
              "                       address  \n",
              "0      1698 W 25TH PL, CHICAGO  \n",
              "1  4866 S CORNELL AVE, CHICAGO  \n",
              "2  2543 N WILLETTS CT, CHICAGO  \n",
              "3    4578 W MORSE AVE, CHICAGO  \n",
              "4  5111 S SANGAMON ST, CHICAGO  "
            ]
          },
          "execution_count": 51,
          "metadata": {},
          "output_type": "execute_result"
        }
      ],
      "source": [
        "#now for the cases dataset\n",
        "print(f'Rows:{cases.shape[0]}\\nColumns: {cases.shape[1]}')\n",
        "\n",
        "cases.head(5)"
      ]
    },
    {
      "cell_type": "code",
      "execution_count": 52,
      "metadata": {
        "colab": {
          "base_uri": "https://localhost:8080/"
        },
        "id": "z3uBn1uH1U9L",
        "outputId": "75ecf071-1f27-4e0d-f6c9-6c540f29a64b"
      },
      "outputs": [
        {
          "name": "stdout",
          "output_type": "stream",
          "text": [
            "There are 0 replicated rows on the cases dataset\n"
          ]
        }
      ],
      "source": [
        "print( f'There are {cases.duplicated().sum()} replicated rows on the cases dataset')\n"
      ]
    },
    {
      "cell_type": "code",
      "execution_count": 53,
      "metadata": {
        "id": "xsBHAauGuR5u"
      },
      "outputs": [],
      "source": [
        "#merge the data with person_id as key\n",
        "df = cases.merge(demo, on = 'person_id', how = 'left')"
      ]
    },
    {
      "cell_type": "code",
      "execution_count": 54,
      "metadata": {
        "colab": {
          "base_uri": "https://localhost:8080/"
        },
        "id": "qNgLnQ9IZI5V",
        "outputId": "b70ceff0-5f86-4b3f-cfb0-69ca9ebb079c"
      },
      "outputs": [
        {
          "data": {
            "text/plain": [
              "(26000, 11)"
            ]
          },
          "execution_count": 54,
          "metadata": {},
          "output_type": "execute_result"
        }
      ],
      "source": [
        "df.shape"
      ]
    },
    {
      "cell_type": "code",
      "execution_count": 55,
      "metadata": {
        "colab": {
          "base_uri": "https://localhost:8080/",
          "height": 206
        },
        "id": "7VJAAnmKtEPO",
        "outputId": "677a2265-f4ae-4332-be35-d9509bccca71"
      },
      "outputs": [
        {
          "data": {
            "text/html": [
              "<div>\n",
              "<style scoped>\n",
              "    .dataframe tbody tr th:only-of-type {\n",
              "        vertical-align: middle;\n",
              "    }\n",
              "\n",
              "    .dataframe tbody tr th {\n",
              "        vertical-align: top;\n",
              "    }\n",
              "\n",
              "    .dataframe thead th {\n",
              "        text-align: right;\n",
              "    }\n",
              "</style>\n",
              "<table border=\"1\" class=\"dataframe\">\n",
              "  <thead>\n",
              "    <tr style=\"text-align: right;\">\n",
              "      <th></th>\n",
              "      <th>caseid</th>\n",
              "      <th>person_id</th>\n",
              "      <th>arrest_date</th>\n",
              "      <th>dispos_date</th>\n",
              "      <th>treat</th>\n",
              "      <th>re_arrest</th>\n",
              "      <th>prior_arrests</th>\n",
              "      <th>address</th>\n",
              "      <th>race</th>\n",
              "      <th>gender</th>\n",
              "      <th>bdate</th>\n",
              "    </tr>\n",
              "  </thead>\n",
              "  <tbody>\n",
              "    <tr>\n",
              "      <th>0</th>\n",
              "      <td>57514</td>\n",
              "      <td>1</td>\n",
              "      <td>2012-01-04</td>\n",
              "      <td>2012-03-27</td>\n",
              "      <td>0</td>\n",
              "      <td>0</td>\n",
              "      <td>2</td>\n",
              "      <td>1698 W 25TH PL, CHICAGO</td>\n",
              "      <td>WHITE</td>\n",
              "      <td>F</td>\n",
              "      <td>1985-07-03</td>\n",
              "    </tr>\n",
              "    <tr>\n",
              "      <th>1</th>\n",
              "      <td>39970</td>\n",
              "      <td>1</td>\n",
              "      <td>2012-07-11</td>\n",
              "      <td>2012-10-20</td>\n",
              "      <td>1</td>\n",
              "      <td>0</td>\n",
              "      <td>3</td>\n",
              "      <td>4866 S CORNELL AVE, CHICAGO</td>\n",
              "      <td>WHITE</td>\n",
              "      <td>F</td>\n",
              "      <td>1985-07-03</td>\n",
              "    </tr>\n",
              "    <tr>\n",
              "      <th>2</th>\n",
              "      <td>88413</td>\n",
              "      <td>1</td>\n",
              "      <td>2013-04-04</td>\n",
              "      <td>2013-06-22</td>\n",
              "      <td>0</td>\n",
              "      <td>0</td>\n",
              "      <td>4</td>\n",
              "      <td>2543 N WILLETTS CT, CHICAGO</td>\n",
              "      <td>WHITE</td>\n",
              "      <td>F</td>\n",
              "      <td>1985-07-03</td>\n",
              "    </tr>\n",
              "    <tr>\n",
              "      <th>3</th>\n",
              "      <td>40216</td>\n",
              "      <td>5</td>\n",
              "      <td>2012-03-31</td>\n",
              "      <td>2013-03-25</td>\n",
              "      <td>0</td>\n",
              "      <td>0</td>\n",
              "      <td>2</td>\n",
              "      <td>4578 W MORSE AVE, CHICAGO</td>\n",
              "      <td>BLACK</td>\n",
              "      <td>M</td>\n",
              "      <td>1986-09-27</td>\n",
              "    </tr>\n",
              "    <tr>\n",
              "      <th>4</th>\n",
              "      <td>92255</td>\n",
              "      <td>6</td>\n",
              "      <td>2012-12-09</td>\n",
              "      <td>2013-11-09</td>\n",
              "      <td>0</td>\n",
              "      <td>0</td>\n",
              "      <td>3</td>\n",
              "      <td>5111 S SANGAMON ST, CHICAGO</td>\n",
              "      <td>BLACK</td>\n",
              "      <td>M</td>\n",
              "      <td>1991-06-07</td>\n",
              "    </tr>\n",
              "  </tbody>\n",
              "</table>\n",
              "</div>"
            ],
            "text/plain": [
              "   caseid  person_id arrest_date dispos_date  treat  re_arrest  prior_arrests  \\\n",
              "0   57514          1  2012-01-04  2012-03-27      0          0              2   \n",
              "1   39970          1  2012-07-11  2012-10-20      1          0              3   \n",
              "2   88413          1  2013-04-04  2013-06-22      0          0              4   \n",
              "3   40216          5  2012-03-31  2013-03-25      0          0              2   \n",
              "4   92255          6  2012-12-09  2013-11-09      0          0              3   \n",
              "\n",
              "                       address   race gender       bdate  \n",
              "0      1698 W 25TH PL, CHICAGO  WHITE      F  1985-07-03  \n",
              "1  4866 S CORNELL AVE, CHICAGO  WHITE      F  1985-07-03  \n",
              "2  2543 N WILLETTS CT, CHICAGO  WHITE      F  1985-07-03  \n",
              "3    4578 W MORSE AVE, CHICAGO  BLACK      M  1986-09-27  \n",
              "4  5111 S SANGAMON ST, CHICAGO  BLACK      M  1991-06-07  "
            ]
          },
          "execution_count": 55,
          "metadata": {},
          "output_type": "execute_result"
        }
      ],
      "source": [
        "#lets see how it looks\n",
        "df.head(5)"
      ]
    },
    {
      "attachments": {},
      "cell_type": "markdown",
      "metadata": {
        "id": "MiKRpLSf1330"
      },
      "source": [
        "3. While the program was mostly rolled out to defendants in Chicago, the State’s Attorney’s\n",
        "Office also ran a pilot serving a small number of individuals arrested in other parts of Cook\n",
        "County. For the purpose of this analysis, please restrict the data to only individuals who were\n",
        "arrested in Chicago."
      ]
    },
    {
      "cell_type": "code",
      "execution_count": 56,
      "metadata": {
        "id": "ds06yBpjaBA0"
      },
      "outputs": [],
      "source": [
        "#first lets separate the address by street and city and generate 2 new columns\n",
        "df['street']  = df.address.str.split(',',expand = True)[0].str.lower()\n",
        "df['city']  = df.address.str.split(',',expand = True)[1].str.lower()\n",
        "\n"
      ]
    },
    {
      "cell_type": "code",
      "execution_count": 57,
      "metadata": {
        "colab": {
          "base_uri": "https://localhost:8080/"
        },
        "id": "Zyp53YMQbW8O",
        "outputId": "b4e07a36-1f1a-4ae2-c391-066e801236f9"
      },
      "outputs": [
        {
          "data": {
            "text/plain": [
              " chicago     25000\n",
              " oak lawn      599\n",
              " cicero        401\n",
              "Name: city, dtype: int64"
            ]
          },
          "execution_count": 57,
          "metadata": {},
          "output_type": "execute_result"
        }
      ],
      "source": [
        "# now we can see the unique values in the city column\n",
        "df.city.value_counts()"
      ]
    },
    {
      "cell_type": "code",
      "execution_count": 58,
      "metadata": {
        "id": "4phLsbl118R7"
      },
      "outputs": [
        {
          "data": {
            "text/plain": [
              " chicago    25000\n",
              "Name: city, dtype: int64"
            ]
          },
          "execution_count": 58,
          "metadata": {},
          "output_type": "execute_result"
        }
      ],
      "source": [
        "#we keep only  chicago as city\n",
        "data = df.loc[df[\"city\"].str.contains('chicago',case = False)]\n",
        "data.city.value_counts()"
      ]
    },
    {
      "attachments": {},
      "cell_type": "markdown",
      "metadata": {
        "id": "5IT8B8Q84vHS"
      },
      "source": [
        "## Part 2: Variable Creation"
      ]
    },
    {
      "attachments": {},
      "cell_type": "markdown",
      "metadata": {
        "id": "hAszgg0t42pU"
      },
      "source": [
        "1. Create an age variable equal to the defendant’s age at the time of arrest for each case."
      ]
    },
    {
      "cell_type": "code",
      "execution_count": 59,
      "metadata": {
        "colab": {
          "base_uri": "https://localhost:8080/"
        },
        "id": "_QOp3w8_4xpS",
        "outputId": "89932b68-d277-4afb-c20f-7152ebb892d0"
      },
      "outputs": [
        {
          "name": "stdout",
          "output_type": "stream",
          "text": [
            "<class 'pandas.core.frame.DataFrame'>\n",
            "Int64Index: 25000 entries, 0 to 24999\n",
            "Data columns (total 13 columns):\n",
            " #   Column         Non-Null Count  Dtype \n",
            "---  ------         --------------  ----- \n",
            " 0   caseid         25000 non-null  int64 \n",
            " 1   person_id      25000 non-null  int64 \n",
            " 2   arrest_date    25000 non-null  object\n",
            " 3   dispos_date    25000 non-null  object\n",
            " 4   treat          25000 non-null  int64 \n",
            " 5   re_arrest      25000 non-null  int64 \n",
            " 6   prior_arrests  25000 non-null  int64 \n",
            " 7   address        25000 non-null  object\n",
            " 8   race           25000 non-null  object\n",
            " 9   gender         25000 non-null  object\n",
            " 10  bdate          25000 non-null  object\n",
            " 11  street         25000 non-null  object\n",
            " 12  city           25000 non-null  object\n",
            "dtypes: int64(5), object(8)\n",
            "memory usage: 2.7+ MB\n"
          ]
        }
      ],
      "source": [
        "#to create a age variable first we need to set the variables as dates to perform a diference\n",
        "data.info()"
      ]
    },
    {
      "cell_type": "code",
      "execution_count": 60,
      "metadata": {
        "id": "rtZOvVSv4x_q"
      },
      "outputs": [
        {
          "name": "stdout",
          "output_type": "stream",
          "text": [
            "<class 'pandas.core.frame.DataFrame'>\n",
            "Int64Index: 25000 entries, 0 to 24999\n",
            "Data columns (total 13 columns):\n",
            " #   Column         Non-Null Count  Dtype         \n",
            "---  ------         --------------  -----         \n",
            " 0   caseid         25000 non-null  int64         \n",
            " 1   person_id      25000 non-null  int64         \n",
            " 2   arrest_date    25000 non-null  datetime64[ns]\n",
            " 3   dispos_date    25000 non-null  datetime64[ns]\n",
            " 4   treat          25000 non-null  int64         \n",
            " 5   re_arrest      25000 non-null  int64         \n",
            " 6   prior_arrests  25000 non-null  int64         \n",
            " 7   address        25000 non-null  object        \n",
            " 8   race           25000 non-null  object        \n",
            " 9   gender         25000 non-null  object        \n",
            " 10  bdate          25000 non-null  datetime64[ns]\n",
            " 11  street         25000 non-null  object        \n",
            " 12  city           25000 non-null  object        \n",
            "dtypes: datetime64[ns](3), int64(5), object(5)\n",
            "memory usage: 2.7+ MB\n"
          ]
        }
      ],
      "source": [
        "data['bdate']= pd.to_datetime(data['bdate'])\n",
        "data['arrest_date']= pd.to_datetime(data['arrest_date'])\n",
        "data['dispos_date']= pd.to_datetime(data['dispos_date'])\n",
        "data.info()"
      ]
    },
    {
      "cell_type": "code",
      "execution_count": 61,
      "metadata": {
        "id": "jl6_D30j4x3y"
      },
      "outputs": [],
      "source": [
        "data['age_of_arrest'] = ((data['arrest_date'] - data['bdate'])/ np.timedelta64(1, 'Y')).apply(math.floor)"
      ]
    },
    {
      "attachments": {},
      "cell_type": "markdown",
      "metadata": {
        "id": "N1ZON9cr-1HT"
      },
      "source": [
        "2. The State’s Attorney is interested in pursuing a partnership with the Chicago Public Schools\n",
        "to investigate the relationship between high school achievement and criminal justice\n",
        "outcomes in early adulthood. To that end, the State’s Attorney’s Office has requested 9th and\n",
        "10th grade course grade data from defendants between the ages of 18 and 24. These data are\n",
        "included in grades.csv. Please construct measures for 9th and 10th grade GPA for this target\n",
        "population. When constructing GPA, please use a 4 point scale, where: A=4, B=3, C=2, D=1,\n",
        "and F=0"
      ]
    },
    {
      "cell_type": "code",
      "execution_count": 62,
      "metadata": {
        "colab": {
          "base_uri": "https://localhost:8080/",
          "height": 288
        },
        "id": "05isdIrkUIKx",
        "outputId": "7a67413f-f1cc-4a9e-9be3-7f54b27d87c3"
      },
      "outputs": [
        {
          "name": "stdout",
          "output_type": "stream",
          "text": [
            "Rows:11251\n",
            "Columns: 17\n"
          ]
        },
        {
          "data": {
            "text/html": [
              "<div>\n",
              "<style scoped>\n",
              "    .dataframe tbody tr th:only-of-type {\n",
              "        vertical-align: middle;\n",
              "    }\n",
              "\n",
              "    .dataframe tbody tr th {\n",
              "        vertical-align: top;\n",
              "    }\n",
              "\n",
              "    .dataframe thead th {\n",
              "        text-align: right;\n",
              "    }\n",
              "</style>\n",
              "<table border=\"1\" class=\"dataframe\">\n",
              "  <thead>\n",
              "    <tr style=\"text-align: right;\">\n",
              "      <th></th>\n",
              "      <th>person_id</th>\n",
              "      <th>gr9_fall_math</th>\n",
              "      <th>gr9_fall_sci</th>\n",
              "      <th>gr9_fall_eng</th>\n",
              "      <th>gr9_fall_hist</th>\n",
              "      <th>gr9_spring_math</th>\n",
              "      <th>gr9_spring_sci</th>\n",
              "      <th>gr9_spring_eng</th>\n",
              "      <th>gr9_spring_hist</th>\n",
              "      <th>gr10_fall_math</th>\n",
              "      <th>gr10_fall_sci</th>\n",
              "      <th>gr10_fall_eng</th>\n",
              "      <th>gr10_fall_hist</th>\n",
              "      <th>gr10_spring_math</th>\n",
              "      <th>gr10_spring_sci</th>\n",
              "      <th>gr10_spring_eng</th>\n",
              "      <th>gr10_spring_hist</th>\n",
              "    </tr>\n",
              "  </thead>\n",
              "  <tbody>\n",
              "    <tr>\n",
              "      <th>0</th>\n",
              "      <td>1</td>\n",
              "      <td>D</td>\n",
              "      <td>NaN</td>\n",
              "      <td>A</td>\n",
              "      <td>A</td>\n",
              "      <td>A</td>\n",
              "      <td>D</td>\n",
              "      <td>A</td>\n",
              "      <td>NaN</td>\n",
              "      <td>D</td>\n",
              "      <td>A</td>\n",
              "      <td>A</td>\n",
              "      <td>D</td>\n",
              "      <td>A</td>\n",
              "      <td>A</td>\n",
              "      <td>A</td>\n",
              "      <td>A</td>\n",
              "    </tr>\n",
              "    <tr>\n",
              "      <th>1</th>\n",
              "      <td>5</td>\n",
              "      <td>D</td>\n",
              "      <td>NaN</td>\n",
              "      <td>A</td>\n",
              "      <td>A</td>\n",
              "      <td>A</td>\n",
              "      <td>D</td>\n",
              "      <td>D</td>\n",
              "      <td>A</td>\n",
              "      <td>D</td>\n",
              "      <td>A</td>\n",
              "      <td>A</td>\n",
              "      <td>A</td>\n",
              "      <td>D</td>\n",
              "      <td>F</td>\n",
              "      <td>A</td>\n",
              "      <td>A</td>\n",
              "    </tr>\n",
              "    <tr>\n",
              "      <th>2</th>\n",
              "      <td>8</td>\n",
              "      <td>NaN</td>\n",
              "      <td>D</td>\n",
              "      <td>F</td>\n",
              "      <td>A</td>\n",
              "      <td>A</td>\n",
              "      <td>D</td>\n",
              "      <td>D</td>\n",
              "      <td>D</td>\n",
              "      <td>A</td>\n",
              "      <td>D</td>\n",
              "      <td>NaN</td>\n",
              "      <td>D</td>\n",
              "      <td>D</td>\n",
              "      <td>D</td>\n",
              "      <td>A</td>\n",
              "      <td>A</td>\n",
              "    </tr>\n",
              "    <tr>\n",
              "      <th>3</th>\n",
              "      <td>10</td>\n",
              "      <td>NaN</td>\n",
              "      <td>A</td>\n",
              "      <td>A</td>\n",
              "      <td>A</td>\n",
              "      <td>NaN</td>\n",
              "      <td>A</td>\n",
              "      <td>A</td>\n",
              "      <td>D</td>\n",
              "      <td>A</td>\n",
              "      <td>A</td>\n",
              "      <td>A</td>\n",
              "      <td>A</td>\n",
              "      <td>A</td>\n",
              "      <td>A</td>\n",
              "      <td>A</td>\n",
              "      <td>F</td>\n",
              "    </tr>\n",
              "    <tr>\n",
              "      <th>4</th>\n",
              "      <td>11</td>\n",
              "      <td>NaN</td>\n",
              "      <td>A</td>\n",
              "      <td>NaN</td>\n",
              "      <td>A</td>\n",
              "      <td>F</td>\n",
              "      <td>NaN</td>\n",
              "      <td>D</td>\n",
              "      <td>D</td>\n",
              "      <td>D</td>\n",
              "      <td>D</td>\n",
              "      <td>A</td>\n",
              "      <td>F</td>\n",
              "      <td>A</td>\n",
              "      <td>NaN</td>\n",
              "      <td>D</td>\n",
              "      <td>D</td>\n",
              "    </tr>\n",
              "  </tbody>\n",
              "</table>\n",
              "</div>"
            ],
            "text/plain": [
              "   person_id gr9_fall_math gr9_fall_sci gr9_fall_eng gr9_fall_hist  \\\n",
              "0          1             D          NaN            A             A   \n",
              "1          5             D          NaN            A             A   \n",
              "2          8           NaN            D            F             A   \n",
              "3         10           NaN            A            A             A   \n",
              "4         11           NaN            A          NaN             A   \n",
              "\n",
              "  gr9_spring_math gr9_spring_sci gr9_spring_eng gr9_spring_hist  \\\n",
              "0               A              D              A             NaN   \n",
              "1               A              D              D               A   \n",
              "2               A              D              D               D   \n",
              "3             NaN              A              A               D   \n",
              "4               F            NaN              D               D   \n",
              "\n",
              "  gr10_fall_math gr10_fall_sci gr10_fall_eng gr10_fall_hist gr10_spring_math  \\\n",
              "0              D             A             A              D                A   \n",
              "1              D             A             A              A                D   \n",
              "2              A             D           NaN              D                D   \n",
              "3              A             A             A              A                A   \n",
              "4              D             D             A              F                A   \n",
              "\n",
              "  gr10_spring_sci gr10_spring_eng gr10_spring_hist  \n",
              "0               A               A                A  \n",
              "1               F               A                A  \n",
              "2               D               A                A  \n",
              "3               A               A                F  \n",
              "4             NaN               D                D  "
            ]
          },
          "execution_count": 62,
          "metadata": {},
          "output_type": "execute_result"
        }
      ],
      "source": [
        "# reading the data and knowing their structure\n",
        "grades = pd.read_csv('../raw_data/grades.csv')\n",
        "print(f'Rows:{grades.shape[0]}\\nColumns: {grades.shape[1]}')\n",
        "grades.head()"
      ]
    },
    {
      "cell_type": "code",
      "execution_count": 63,
      "metadata": {
        "colab": {
          "base_uri": "https://localhost:8080/"
        },
        "id": "Na1Qbb0KZxJ9",
        "outputId": "685f34c3-0d79-4831-9188-8d4248cda03c"
      },
      "outputs": [
        {
          "data": {
            "text/plain": [
              "Index(['person_id', 'gr9_fall_math', 'gr9_fall_sci', 'gr9_fall_eng',\n",
              "       'gr9_fall_hist', 'gr9_spring_math', 'gr9_spring_sci', 'gr9_spring_eng',\n",
              "       'gr9_spring_hist', 'gr10_fall_math', 'gr10_fall_sci', 'gr10_fall_eng',\n",
              "       'gr10_fall_hist', 'gr10_spring_math', 'gr10_spring_sci',\n",
              "       'gr10_spring_eng', 'gr10_spring_hist'],\n",
              "      dtype='object')"
            ]
          },
          "execution_count": 63,
          "metadata": {},
          "output_type": "execute_result"
        }
      ],
      "source": [
        "# replacing the letter with numbers \n",
        "grades = grades.replace({'A':4,'B':3,'C':2,'D':1,'F':0})\n",
        "grades.columns"
      ]
    },
    {
      "cell_type": "code",
      "execution_count": 64,
      "metadata": {},
      "outputs": [],
      "source": [
        "#now we want to find the columns with a 9 in their name \n",
        "gr9 = grades.iloc[:,grades.columns.str.contains('9')].columns.to_list()\n",
        "#and also for the 10th grade\n",
        "gr10 = grades.iloc[:,grades.columns.str.contains('10')].columns.to_list()"
      ]
    },
    {
      "cell_type": "code",
      "execution_count": 65,
      "metadata": {
        "colab": {
          "base_uri": "https://localhost:8080/"
        },
        "id": "TdwQM_dnyK_9",
        "outputId": "7f18d765-ad04-4251-f6fd-6d9264d858b2"
      },
      "outputs": [],
      "source": [
        "#some grades are missings but we can't asume that the grade is 0 so we are going to generate the varaible\n",
        "#without some values, that why there are nan values in the final gpa\n",
        "grades['gpa_9th'] =grades[gr9].mean(axis =1,  skipna = False)\n",
        "grades['gpa_10th'] =grades[gr10].mean(axis =1,  skipna = False)\n",
        "\n"
      ]
    },
    {
      "cell_type": "code",
      "execution_count": 66,
      "metadata": {
        "id": "0mwSBPMMavJM"
      },
      "outputs": [],
      "source": [
        "#merging the data with grades with person id as key\n",
        "data_1 = data.merge(grades, on = 'person_id', how = 'left')"
      ]
    },
    {
      "cell_type": "code",
      "execution_count": 67,
      "metadata": {
        "colab": {
          "base_uri": "https://localhost:8080/"
        },
        "id": "kzwUSIbZnwVU",
        "outputId": "40b83703-b86f-4bf9-c2e7-6de4c024bb8d"
      },
      "outputs": [],
      "source": [
        "#finally we filter the data by age 18< and <24 \n",
        "data_1 = data_1[(data_1.age_of_arrest <=24) & (18 <= data_1.age_of_arrest)]"
      ]
    },
    {
      "cell_type": "code",
      "execution_count": 68,
      "metadata": {
        "colab": {
          "base_uri": "https://localhost:8080/"
        },
        "id": "LaJx99N1nPun",
        "outputId": "8b882d0a-0046-4769-cb10-6b99d52692f1"
      },
      "outputs": [
        {
          "data": {
            "text/plain": [
              "(5616, 32)"
            ]
          },
          "execution_count": 68,
          "metadata": {},
          "output_type": "execute_result"
        }
      ],
      "source": [
        "data_1.shape"
      ]
    },
    {
      "attachments": {},
      "cell_type": "markdown",
      "metadata": {
        "id": "EXj_R4nrt8mQ"
      },
      "source": [
        "- econ ml\n",
        "- dowhy\n",
        "double machine learning\n",
        "anovas\n",
        "- sin asumir normalidad man whitney\n",
        "- wincolson\n",
        "- t de student\n",
        "- pinguin stats\n"
      ]
    },
    {
      "attachments": {},
      "cell_type": "markdown",
      "metadata": {
        "id": "Eo09Cey12vJS"
      },
      "source": [
        "3.\n",
        "\n",
        "a. The provided case.csv file includes a variable that indicates the number of arrests\n",
        "prior to that case for each individual. Please reconstruct the variable using the\n",
        "prior_arrests.csv file. Assume that all of the individual’s arrests prior to the study\n",
        "period are contained in prior_arrest.csv. If someone is not included in\n",
        "prior_arrests.csv, assume they had zero arrests at the start of the study period. Also\n",
        "note that some individuals were arrested multiple times during the study period and\n",
        "that this should be accounted for in your prior arrest count. For example, if individual\n",
        "A was arrested 5 times prior to the study period and appears twice in the case file,\n",
        "their first arrest in the case file should have a prior arrest count of “5” and their\n",
        "second arrest should have a prior arrest count of “6”. One final note, some people\n",
        "really do get arrested multiple times on the same day. Count each arrest separately,\n",
        "regardless of whether another arrest occurred on the same day.\n",
        "\n",
        "\n",
        "b. The case file also includes a variable re_arrest which indicates whether individuals\n",
        "were arrested during their case period (i.e. after the case’s arrest date and before the\n",
        "case’s disposition date). Please reconstruct this indicator. Assume that all arrests\n",
        "during the study period are reflected in the case file.\n",
        "\n",
        "\n",
        "c. Please show that the variables you reconstructed are equal to the versions in the\n",
        "provided datasets."
      ]
    },
    {
      "cell_type": "code",
      "execution_count": 69,
      "metadata": {
        "id": "kgWU_Pd32bsk"
      },
      "outputs": [
        {
          "data": {
            "text/plain": [
              "(25000, 14)"
            ]
          },
          "execution_count": 69,
          "metadata": {},
          "output_type": "execute_result"
        }
      ],
      "source": [
        "#READING THE DATA of priors arrests\n",
        "prior = pd.read_csv('../raw_data/prior_arrests.csv')\n",
        "#and the data that we generate in part2.1\n",
        "data.shape"
      ]
    },
    {
      "attachments": {},
      "cell_type": "markdown",
      "metadata": {},
      "source": [
        "- We want to reconstruct the prior arrest varaible on cases. From the original data cases.csv we filter the cases related to chicago son we have 25k observations. So, from this dataset we can filter the duplicated rows and keep only the first time that the person id appears, because we only havet the priors arrest before the study starts so we only can reconstruct the prior arrest for this first time they appear."
      ]
    },
    {
      "attachments": {},
      "cell_type": "markdown",
      "metadata": {},
      "source": [
        "- So a person can be arrested more than one time on the same day and the prior_arrest.csv only haver the columns person_id and arrest_date, so we can group by person_id and count the arrest_date to know the time that a single person_id was arrested. Lets follow that logic"
      ]
    },
    {
      "cell_type": "code",
      "execution_count": 70,
      "metadata": {},
      "outputs": [
        {
          "data": {
            "text/html": [
              "<div>\n",
              "<style scoped>\n",
              "    .dataframe tbody tr th:only-of-type {\n",
              "        vertical-align: middle;\n",
              "    }\n",
              "\n",
              "    .dataframe tbody tr th {\n",
              "        vertical-align: top;\n",
              "    }\n",
              "\n",
              "    .dataframe thead th {\n",
              "        text-align: right;\n",
              "    }\n",
              "</style>\n",
              "<table border=\"1\" class=\"dataframe\">\n",
              "  <thead>\n",
              "    <tr style=\"text-align: right;\">\n",
              "      <th></th>\n",
              "      <th>person_id</th>\n",
              "      <th>prior_arrest_rec</th>\n",
              "    </tr>\n",
              "  </thead>\n",
              "  <tbody>\n",
              "    <tr>\n",
              "      <th>0</th>\n",
              "      <td>1</td>\n",
              "      <td>2</td>\n",
              "    </tr>\n",
              "    <tr>\n",
              "      <th>1</th>\n",
              "      <td>5</td>\n",
              "      <td>2</td>\n",
              "    </tr>\n",
              "    <tr>\n",
              "      <th>2</th>\n",
              "      <td>6</td>\n",
              "      <td>3</td>\n",
              "    </tr>\n",
              "    <tr>\n",
              "      <th>3</th>\n",
              "      <td>8</td>\n",
              "      <td>4</td>\n",
              "    </tr>\n",
              "    <tr>\n",
              "      <th>4</th>\n",
              "      <td>9</td>\n",
              "      <td>1</td>\n",
              "    </tr>\n",
              "    <tr>\n",
              "      <th>...</th>\n",
              "      <td>...</td>\n",
              "      <td>...</td>\n",
              "    </tr>\n",
              "    <tr>\n",
              "      <th>13555</th>\n",
              "      <td>19995</td>\n",
              "      <td>1</td>\n",
              "    </tr>\n",
              "    <tr>\n",
              "      <th>13556</th>\n",
              "      <td>19996</td>\n",
              "      <td>5</td>\n",
              "    </tr>\n",
              "    <tr>\n",
              "      <th>13557</th>\n",
              "      <td>19997</td>\n",
              "      <td>2</td>\n",
              "    </tr>\n",
              "    <tr>\n",
              "      <th>13558</th>\n",
              "      <td>19999</td>\n",
              "      <td>2</td>\n",
              "    </tr>\n",
              "    <tr>\n",
              "      <th>13559</th>\n",
              "      <td>20000</td>\n",
              "      <td>2</td>\n",
              "    </tr>\n",
              "  </tbody>\n",
              "</table>\n",
              "<p>13560 rows × 2 columns</p>\n",
              "</div>"
            ],
            "text/plain": [
              "       person_id  prior_arrest_rec\n",
              "0              1                 2\n",
              "1              5                 2\n",
              "2              6                 3\n",
              "3              8                 4\n",
              "4              9                 1\n",
              "...          ...               ...\n",
              "13555      19995                 1\n",
              "13556      19996                 5\n",
              "13557      19997                 2\n",
              "13558      19999                 2\n",
              "13559      20000                 2\n",
              "\n",
              "[13560 rows x 2 columns]"
            ]
          },
          "execution_count": 70,
          "metadata": {},
          "output_type": "execute_result"
        }
      ],
      "source": [
        "#we group by person_id and count the dates as arrests, then reset the index,convert to frame and rename the column\n",
        "priors = prior.groupby('person_id').arrest_date.count().to_frame().reset_index().rename(columns = {'arrest_date':'prior_arrest_rec'})\n",
        "priors"
      ]
    },
    {
      "attachments": {},
      "cell_type": "markdown",
      "metadata": {},
      "source": [
        "- now that we got the number of prior arrests for each person id, lets extract the same info from the dataset that we create above. We hace to drop the duplicated rows because there are arrest that happend during the study and we want to recreate the arrests \"prior\" to the study so we only need the first time that the person_id appear."
      ]
    },
    {
      "cell_type": "code",
      "execution_count": 71,
      "metadata": {},
      "outputs": [
        {
          "data": {
            "text/html": [
              "<div>\n",
              "<style scoped>\n",
              "    .dataframe tbody tr th:only-of-type {\n",
              "        vertical-align: middle;\n",
              "    }\n",
              "\n",
              "    .dataframe tbody tr th {\n",
              "        vertical-align: top;\n",
              "    }\n",
              "\n",
              "    .dataframe thead th {\n",
              "        text-align: right;\n",
              "    }\n",
              "</style>\n",
              "<table border=\"1\" class=\"dataframe\">\n",
              "  <thead>\n",
              "    <tr style=\"text-align: right;\">\n",
              "      <th></th>\n",
              "      <th>person_id</th>\n",
              "      <th>prior_arrests</th>\n",
              "    </tr>\n",
              "  </thead>\n",
              "  <tbody>\n",
              "    <tr>\n",
              "      <th>0</th>\n",
              "      <td>1</td>\n",
              "      <td>2</td>\n",
              "    </tr>\n",
              "    <tr>\n",
              "      <th>3</th>\n",
              "      <td>5</td>\n",
              "      <td>2</td>\n",
              "    </tr>\n",
              "    <tr>\n",
              "      <th>4</th>\n",
              "      <td>6</td>\n",
              "      <td>3</td>\n",
              "    </tr>\n",
              "    <tr>\n",
              "      <th>5</th>\n",
              "      <td>7</td>\n",
              "      <td>0</td>\n",
              "    </tr>\n",
              "    <tr>\n",
              "      <th>6</th>\n",
              "      <td>8</td>\n",
              "      <td>4</td>\n",
              "    </tr>\n",
              "    <tr>\n",
              "      <th>...</th>\n",
              "      <td>...</td>\n",
              "      <td>...</td>\n",
              "    </tr>\n",
              "    <tr>\n",
              "      <th>24994</th>\n",
              "      <td>19995</td>\n",
              "      <td>1</td>\n",
              "    </tr>\n",
              "    <tr>\n",
              "      <th>24996</th>\n",
              "      <td>19996</td>\n",
              "      <td>5</td>\n",
              "    </tr>\n",
              "    <tr>\n",
              "      <th>24997</th>\n",
              "      <td>19997</td>\n",
              "      <td>2</td>\n",
              "    </tr>\n",
              "    <tr>\n",
              "      <th>24998</th>\n",
              "      <td>19999</td>\n",
              "      <td>2</td>\n",
              "    </tr>\n",
              "    <tr>\n",
              "      <th>24999</th>\n",
              "      <td>20000</td>\n",
              "      <td>2</td>\n",
              "    </tr>\n",
              "  </tbody>\n",
              "</table>\n",
              "<p>14353 rows × 2 columns</p>\n",
              "</div>"
            ],
            "text/plain": [
              "       person_id  prior_arrests\n",
              "0              1              2\n",
              "3              5              2\n",
              "4              6              3\n",
              "5              7              0\n",
              "6              8              4\n",
              "...          ...            ...\n",
              "24994      19995              1\n",
              "24996      19996              5\n",
              "24997      19997              2\n",
              "24998      19999              2\n",
              "24999      20000              2\n",
              "\n",
              "[14353 rows x 2 columns]"
            ]
          },
          "execution_count": 71,
          "metadata": {},
          "output_type": "execute_result"
        }
      ],
      "source": [
        "#we keep person id and prior only keep the first duplicated row\n",
        "casse = data[['person_id','prior_arrests']][data.person_id.duplicated('first') == False]\n",
        "casse"
      ]
    },
    {
      "attachments": {},
      "cell_type": "markdown",
      "metadata": {},
      "source": [
        "- Now we merge the group by of prior.csv and this data casse all by the person_id key and we know that not all the person_ids appears in the prior dataset because some individuals don't have priors arrests so in the merge we are going to fill this nan with 0 as the instructions says"
      ]
    },
    {
      "cell_type": "code",
      "execution_count": 72,
      "metadata": {},
      "outputs": [
        {
          "data": {
            "text/html": [
              "<div>\n",
              "<style scoped>\n",
              "    .dataframe tbody tr th:only-of-type {\n",
              "        vertical-align: middle;\n",
              "    }\n",
              "\n",
              "    .dataframe tbody tr th {\n",
              "        vertical-align: top;\n",
              "    }\n",
              "\n",
              "    .dataframe thead th {\n",
              "        text-align: right;\n",
              "    }\n",
              "</style>\n",
              "<table border=\"1\" class=\"dataframe\">\n",
              "  <thead>\n",
              "    <tr style=\"text-align: right;\">\n",
              "      <th></th>\n",
              "      <th>person_id</th>\n",
              "      <th>prior_arrests</th>\n",
              "      <th>prior_arrest_rec</th>\n",
              "    </tr>\n",
              "  </thead>\n",
              "  <tbody>\n",
              "    <tr>\n",
              "      <th>0</th>\n",
              "      <td>1</td>\n",
              "      <td>2</td>\n",
              "      <td>2.0</td>\n",
              "    </tr>\n",
              "    <tr>\n",
              "      <th>1</th>\n",
              "      <td>5</td>\n",
              "      <td>2</td>\n",
              "      <td>2.0</td>\n",
              "    </tr>\n",
              "    <tr>\n",
              "      <th>2</th>\n",
              "      <td>6</td>\n",
              "      <td>3</td>\n",
              "      <td>3.0</td>\n",
              "    </tr>\n",
              "    <tr>\n",
              "      <th>3</th>\n",
              "      <td>7</td>\n",
              "      <td>0</td>\n",
              "      <td>0.0</td>\n",
              "    </tr>\n",
              "    <tr>\n",
              "      <th>4</th>\n",
              "      <td>8</td>\n",
              "      <td>4</td>\n",
              "      <td>4.0</td>\n",
              "    </tr>\n",
              "    <tr>\n",
              "      <th>...</th>\n",
              "      <td>...</td>\n",
              "      <td>...</td>\n",
              "      <td>...</td>\n",
              "    </tr>\n",
              "    <tr>\n",
              "      <th>14348</th>\n",
              "      <td>19995</td>\n",
              "      <td>1</td>\n",
              "      <td>1.0</td>\n",
              "    </tr>\n",
              "    <tr>\n",
              "      <th>14349</th>\n",
              "      <td>19996</td>\n",
              "      <td>5</td>\n",
              "      <td>5.0</td>\n",
              "    </tr>\n",
              "    <tr>\n",
              "      <th>14350</th>\n",
              "      <td>19997</td>\n",
              "      <td>2</td>\n",
              "      <td>2.0</td>\n",
              "    </tr>\n",
              "    <tr>\n",
              "      <th>14351</th>\n",
              "      <td>19999</td>\n",
              "      <td>2</td>\n",
              "      <td>2.0</td>\n",
              "    </tr>\n",
              "    <tr>\n",
              "      <th>14352</th>\n",
              "      <td>20000</td>\n",
              "      <td>2</td>\n",
              "      <td>2.0</td>\n",
              "    </tr>\n",
              "  </tbody>\n",
              "</table>\n",
              "<p>14353 rows × 3 columns</p>\n",
              "</div>"
            ],
            "text/plain": [
              "       person_id  prior_arrests  prior_arrest_rec\n",
              "0              1              2               2.0\n",
              "1              5              2               2.0\n",
              "2              6              3               3.0\n",
              "3              7              0               0.0\n",
              "4              8              4               4.0\n",
              "...          ...            ...               ...\n",
              "14348      19995              1               1.0\n",
              "14349      19996              5               5.0\n",
              "14350      19997              2               2.0\n",
              "14351      19999              2               2.0\n",
              "14352      20000              2               2.0\n",
              "\n",
              "[14353 rows x 3 columns]"
            ]
          },
          "execution_count": 72,
          "metadata": {},
          "output_type": "execute_result"
        }
      ],
      "source": [
        "recreatrion = casse.merge(priors, on = 'person_id',how = 'left').fillna(0)\n",
        "recreatrion"
      ]
    },
    {
      "attachments": {},
      "cell_type": "markdown",
      "metadata": {},
      "source": [
        "- Now that we have the merge, we have to prove that reconstruction are the same as the original so we are going to create a column with the diference of the prior_arrest original and te prior_arrest reconstructed and if the column is distict to 0 in any row so the reconstruction fail, but if equal to zero so it's ok our strategy."
      ]
    },
    {
      "cell_type": "code",
      "execution_count": 73,
      "metadata": {},
      "outputs": [
        {
          "data": {
            "text/plain": [
              "0    14353\n",
              "Name: dummy, dtype: int64"
            ]
          },
          "execution_count": 73,
          "metadata": {},
          "output_type": "execute_result"
        }
      ],
      "source": [
        "#creating the dummy to get their unique values\n",
        "recreatrion['dummy'] = recreatrion['prior_arrests']  - recreatrion['prior_arrests'] \n",
        "recreatrion.dummy.value_counts()"
      ]
    },
    {
      "attachments": {},
      "cell_type": "markdown",
      "metadata": {},
      "source": [
        "- the only value present on the columns is zero, so this mean that all the values are the same."
      ]
    },
    {
      "attachments": {},
      "cell_type": "markdown",
      "metadata": {},
      "source": [
        "## Part 3: Statistical Analysis"
      ]
    },
    {
      "attachments": {},
      "cell_type": "markdown",
      "metadata": {},
      "source": [
        "1. Describe the demographic characteristics of the study population based on the data available \n",
        "to you. (Hint: the study population has 25,000 subjects). "
      ]
    },
    {
      "cell_type": "code",
      "execution_count": 74,
      "metadata": {},
      "outputs": [],
      "source": [
        "\n",
        "\n",
        "# Assuming data is a DataFrame containing the data\n",
        "age_of_arrest_sum = pd.DataFrame({\n",
        "    'mean': [data['age_of_arrest'].mean()],\n",
        "    'min': [data['age_of_arrest'].min()],\n",
        "    'max': [data['age_of_arrest'].max()],\n",
        "    'p5': [np.quantile(data['age_of_arrest'], 0.05)],\n",
        "    'p95': [np.quantile(data['age_of_arrest'], 0.95)]\n",
        "})\n",
        "age_of_arrest_sum.rename(index = {0:'Age'}, inplace = True)\n",
        "dfi.export(age_of_arrest_sum, '../images/age_summ.png')\n"
      ]
    },
    {
      "cell_type": "code",
      "execution_count": 84,
      "metadata": {},
      "outputs": [],
      "source": [
        "# Assuming data is a DataFrame containing the data\n",
        "gender_sum = data.groupby('gender').agg(freq=('person_id', 'size')).reset_index()\n",
        "gender_sum['prop (%)'] = gender_sum['freq'] * 100 / gender_sum['freq'].sum()\n",
        "dfi.export(gender_sum, '../images/gender_summ.png')\n",
        "\n",
        "\n"
      ]
    },
    {
      "cell_type": "code",
      "execution_count": 80,
      "metadata": {},
      "outputs": [],
      "source": [
        "# Assuming data is a DataFrame containing the data\n",
        "race_sum = data.groupby('race').agg(freq=('person_id', 'size')).reset_index()\n",
        "race_sum['prop (%)'] = race_sum['freq'] * 100 / race_sum['freq'].sum()\n",
        "dfi.export(race_sum, '../images/race_summ.png')\n"
      ]
    },
    {
      "cell_type": "code",
      "execution_count": 76,
      "metadata": {},
      "outputs": [
        {
          "data": {
            "text/html": [
              "<div>\n",
              "<style scoped>\n",
              "    .dataframe tbody tr th:only-of-type {\n",
              "        vertical-align: middle;\n",
              "    }\n",
              "\n",
              "    .dataframe tbody tr th {\n",
              "        vertical-align: top;\n",
              "    }\n",
              "\n",
              "    .dataframe thead th {\n",
              "        text-align: right;\n",
              "    }\n",
              "</style>\n",
              "<table border=\"1\" class=\"dataframe\">\n",
              "  <thead>\n",
              "    <tr style=\"text-align: right;\">\n",
              "      <th></th>\n",
              "      <th>mean</th>\n",
              "      <th>min</th>\n",
              "      <th>max</th>\n",
              "    </tr>\n",
              "  </thead>\n",
              "  <tbody>\n",
              "    <tr>\n",
              "      <th>age_of_arrest</th>\n",
              "      <td>29.82224</td>\n",
              "      <td>9.0</td>\n",
              "      <td>70.0</td>\n",
              "    </tr>\n",
              "  </tbody>\n",
              "</table>\n",
              "</div>"
            ],
            "text/plain": [
              "                   mean  min   max\n",
              "age_of_arrest  29.82224  9.0  70.0"
            ]
          },
          "execution_count": 76,
          "metadata": {},
          "output_type": "execute_result"
        }
      ],
      "source": [
        "data.age_of_arrest.agg(['mean','min','max', ]).to_frame().T"
      ]
    },
    {
      "cell_type": "code",
      "execution_count": 87,
      "metadata": {},
      "outputs": [],
      "source": [
        "treatment = data[data.treat == 1]\n",
        "control = data[data.treat == 0]"
      ]
    },
    {
      "cell_type": "code",
      "execution_count": 89,
      "metadata": {},
      "outputs": [],
      "source": [
        "vars = ['prior_arrests','gender','age_of_arrest']"
      ]
    },
    {
      "cell_type": "code",
      "execution_count": 93,
      "metadata": {},
      "outputs": [],
      "source": [
        "resultado = stats.ttest_ind(treatment['age_of_arrest'], control['age_of_arrest'])\n"
      ]
    },
    {
      "cell_type": "code",
      "execution_count": 100,
      "metadata": {},
      "outputs": [
        {
          "data": {
            "text/plain": [
              "31.27401323294547"
            ]
          },
          "execution_count": 100,
          "metadata": {},
          "output_type": "execute_result"
        }
      ],
      "source": [
        "treatment['age_of_arrest'].mean()"
      ]
    },
    {
      "cell_type": "code",
      "execution_count": 103,
      "metadata": {},
      "outputs": [
        {
          "data": {
            "text/html": [
              "<div>\n",
              "<style scoped>\n",
              "    .dataframe tbody tr th:only-of-type {\n",
              "        vertical-align: middle;\n",
              "    }\n",
              "\n",
              "    .dataframe tbody tr th {\n",
              "        vertical-align: top;\n",
              "    }\n",
              "\n",
              "    .dataframe thead th {\n",
              "        text-align: right;\n",
              "    }\n",
              "</style>\n",
              "<table border=\"1\" class=\"dataframe\">\n",
              "  <thead>\n",
              "    <tr style=\"text-align: right;\">\n",
              "      <th></th>\n",
              "      <th>F</th>\n",
              "      <th>M</th>\n",
              "    </tr>\n",
              "  </thead>\n",
              "  <tbody>\n",
              "    <tr>\n",
              "      <th>0</th>\n",
              "      <td>1</td>\n",
              "      <td>0</td>\n",
              "    </tr>\n",
              "    <tr>\n",
              "      <th>1</th>\n",
              "      <td>1</td>\n",
              "      <td>0</td>\n",
              "    </tr>\n",
              "    <tr>\n",
              "      <th>2</th>\n",
              "      <td>1</td>\n",
              "      <td>0</td>\n",
              "    </tr>\n",
              "    <tr>\n",
              "      <th>3</th>\n",
              "      <td>0</td>\n",
              "      <td>1</td>\n",
              "    </tr>\n",
              "    <tr>\n",
              "      <th>4</th>\n",
              "      <td>0</td>\n",
              "      <td>1</td>\n",
              "    </tr>\n",
              "    <tr>\n",
              "      <th>...</th>\n",
              "      <td>...</td>\n",
              "      <td>...</td>\n",
              "    </tr>\n",
              "    <tr>\n",
              "      <th>24995</th>\n",
              "      <td>0</td>\n",
              "      <td>1</td>\n",
              "    </tr>\n",
              "    <tr>\n",
              "      <th>24996</th>\n",
              "      <td>1</td>\n",
              "      <td>0</td>\n",
              "    </tr>\n",
              "    <tr>\n",
              "      <th>24997</th>\n",
              "      <td>0</td>\n",
              "      <td>1</td>\n",
              "    </tr>\n",
              "    <tr>\n",
              "      <th>24998</th>\n",
              "      <td>0</td>\n",
              "      <td>1</td>\n",
              "    </tr>\n",
              "    <tr>\n",
              "      <th>24999</th>\n",
              "      <td>0</td>\n",
              "      <td>1</td>\n",
              "    </tr>\n",
              "  </tbody>\n",
              "</table>\n",
              "<p>25000 rows × 2 columns</p>\n",
              "</div>"
            ],
            "text/plain": [
              "       F  M\n",
              "0      1  0\n",
              "1      1  0\n",
              "2      1  0\n",
              "3      0  1\n",
              "4      0  1\n",
              "...   .. ..\n",
              "24995  0  1\n",
              "24996  1  0\n",
              "24997  0  1\n",
              "24998  0  1\n",
              "24999  0  1\n",
              "\n",
              "[25000 rows x 2 columns]"
            ]
          },
          "execution_count": 103,
          "metadata": {},
          "output_type": "execute_result"
        }
      ],
      "source": [
        "pd.get_dummies(data.gender, drop)"
      ]
    },
    {
      "cell_type": "code",
      "execution_count": 99,
      "metadata": {},
      "outputs": [
        {
          "data": {
            "text/plain": [
              "31.612468598542588"
            ]
          },
          "execution_count": 99,
          "metadata": {},
          "output_type": "execute_result"
        }
      ],
      "source": [
        "resultado.statistic"
      ]
    },
    {
      "cell_type": "code",
      "execution_count": 97,
      "metadata": {},
      "outputs": [
        {
          "data": {
            "text/plain": [
              "4.264267667670174e-215"
            ]
          },
          "execution_count": 97,
          "metadata": {},
          "output_type": "execute_result"
        }
      ],
      "source": [
        "resultado.pvalue"
      ]
    },
    {
      "cell_type": "code",
      "execution_count": 92,
      "metadata": {},
      "outputs": [
        {
          "data": {
            "text/plain": [
              "1        27\n",
              "6        34\n",
              "9        19\n",
              "10       28\n",
              "11       25\n",
              "         ..\n",
              "24987    26\n",
              "24988    26\n",
              "24989    38\n",
              "24992    40\n",
              "24995    26\n",
              "Name: age_of_arrest, Length: 13149, dtype: int64"
            ]
          },
          "execution_count": 92,
          "metadata": {},
          "output_type": "execute_result"
        }
      ],
      "source": [
        "treatment['age_of_arrest']"
      ]
    },
    {
      "cell_type": "code",
      "execution_count": 88,
      "metadata": {},
      "outputs": [
        {
          "data": {
            "text/html": [
              "<div>\n",
              "<style scoped>\n",
              "    .dataframe tbody tr th:only-of-type {\n",
              "        vertical-align: middle;\n",
              "    }\n",
              "\n",
              "    .dataframe tbody tr th {\n",
              "        vertical-align: top;\n",
              "    }\n",
              "\n",
              "    .dataframe thead th {\n",
              "        text-align: right;\n",
              "    }\n",
              "</style>\n",
              "<table border=\"1\" class=\"dataframe\">\n",
              "  <thead>\n",
              "    <tr style=\"text-align: right;\">\n",
              "      <th></th>\n",
              "      <th>caseid</th>\n",
              "      <th>person_id</th>\n",
              "      <th>arrest_date</th>\n",
              "      <th>dispos_date</th>\n",
              "      <th>treat</th>\n",
              "      <th>re_arrest</th>\n",
              "      <th>prior_arrests</th>\n",
              "      <th>address</th>\n",
              "      <th>race</th>\n",
              "      <th>gender</th>\n",
              "      <th>bdate</th>\n",
              "      <th>street</th>\n",
              "      <th>city</th>\n",
              "      <th>age_of_arrest</th>\n",
              "    </tr>\n",
              "  </thead>\n",
              "  <tbody>\n",
              "    <tr>\n",
              "      <th>0</th>\n",
              "      <td>57514</td>\n",
              "      <td>1</td>\n",
              "      <td>2012-01-04</td>\n",
              "      <td>2012-03-27</td>\n",
              "      <td>0</td>\n",
              "      <td>0</td>\n",
              "      <td>2</td>\n",
              "      <td>1698 W 25TH PL, CHICAGO</td>\n",
              "      <td>WHITE</td>\n",
              "      <td>F</td>\n",
              "      <td>1985-07-03</td>\n",
              "      <td>1698 w 25th pl</td>\n",
              "      <td>chicago</td>\n",
              "      <td>26</td>\n",
              "    </tr>\n",
              "    <tr>\n",
              "      <th>1</th>\n",
              "      <td>39970</td>\n",
              "      <td>1</td>\n",
              "      <td>2012-07-11</td>\n",
              "      <td>2012-10-20</td>\n",
              "      <td>1</td>\n",
              "      <td>0</td>\n",
              "      <td>3</td>\n",
              "      <td>4866 S CORNELL AVE, CHICAGO</td>\n",
              "      <td>WHITE</td>\n",
              "      <td>F</td>\n",
              "      <td>1985-07-03</td>\n",
              "      <td>4866 s cornell ave</td>\n",
              "      <td>chicago</td>\n",
              "      <td>27</td>\n",
              "    </tr>\n",
              "    <tr>\n",
              "      <th>2</th>\n",
              "      <td>88413</td>\n",
              "      <td>1</td>\n",
              "      <td>2013-04-04</td>\n",
              "      <td>2013-06-22</td>\n",
              "      <td>0</td>\n",
              "      <td>0</td>\n",
              "      <td>4</td>\n",
              "      <td>2543 N WILLETTS CT, CHICAGO</td>\n",
              "      <td>WHITE</td>\n",
              "      <td>F</td>\n",
              "      <td>1985-07-03</td>\n",
              "      <td>2543 n willetts ct</td>\n",
              "      <td>chicago</td>\n",
              "      <td>27</td>\n",
              "    </tr>\n",
              "  </tbody>\n",
              "</table>\n",
              "</div>"
            ],
            "text/plain": [
              "   caseid  person_id arrest_date dispos_date  treat  re_arrest  prior_arrests  \\\n",
              "0   57514          1  2012-01-04  2012-03-27      0          0              2   \n",
              "1   39970          1  2012-07-11  2012-10-20      1          0              3   \n",
              "2   88413          1  2013-04-04  2013-06-22      0          0              4   \n",
              "\n",
              "                       address   race gender      bdate              street  \\\n",
              "0      1698 W 25TH PL, CHICAGO  WHITE      F 1985-07-03      1698 w 25th pl   \n",
              "1  4866 S CORNELL AVE, CHICAGO  WHITE      F 1985-07-03  4866 s cornell ave   \n",
              "2  2543 N WILLETTS CT, CHICAGO  WHITE      F 1985-07-03  2543 n willetts ct   \n",
              "\n",
              "       city  age_of_arrest  \n",
              "0   chicago             26  \n",
              "1   chicago             27  \n",
              "2   chicago             27  "
            ]
          },
          "execution_count": 88,
          "metadata": {},
          "output_type": "execute_result"
        }
      ],
      "source": [
        "data.head(3)"
      ]
    }
  ],
  "metadata": {
    "colab": {
      "provenance": []
    },
    "kernelspec": {
      "display_name": "Python 3",
      "name": "python3"
    },
    "language_info": {
      "codemirror_mode": {
        "name": "ipython",
        "version": 3
      },
      "file_extension": ".py",
      "mimetype": "text/x-python",
      "name": "python",
      "nbconvert_exporter": "python",
      "pygments_lexer": "ipython3",
      "version": "3.9.16"
    }
  },
  "nbformat": 4,
  "nbformat_minor": 0
}
